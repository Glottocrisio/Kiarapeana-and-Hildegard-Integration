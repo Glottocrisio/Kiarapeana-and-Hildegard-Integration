
# %%
# Install necessary libraries
!pip install pyeuropeana gensim matplotlib kiara

# %%
import os
from pyeuropeana import Europeana
from gensim.corpora import Dictionary
from gensim.models import LdaModel
from gensim.utils import simple_preprocess
import matplotlib.pyplot as plt

# %%
# Define your Europeana API key
API_KEY = 'YOUR_EUROPEANA_API_KEY'  # Replace with your Europeana API key

# %%
# Function to download Belgian journals using the Europeana API
def download_belgian_journals(api_key, search_query, download_path):
    europeana = Europeana(api_key)
    results = europeana.search(search_query)

    if not os.path.exists(download_path):
        os.makedirs(download_path)

    for item in results['items']:
        title = item['title'][0] if 'title' in item else 'unknown'
        data = europeana.get_item_data(item['id'])
        
        with open(os.path.join(download_path, f"{title}.txt"), 'w', encoding='utf-8') as file:
            file.write(data)

    return download_path

# %%
# Download Belgian journals
search_query = 'Belgium journals'
download_path = './belgian_journals'
download_belgian_journals(API_KEY, search_query, download_path)

# %%
# Preprocess the downloaded journal texts
def preprocess_texts(text_dir):
    texts = []
    for filename in os.listdir(text_dir):
        if filename.endswith(".txt"):
            with open(os.path.join(text_dir, filename), 'r', encoding='utf-8') as file:
                text = file.read()
                texts.append(simple_preprocess(text))
    return texts

texts = preprocess_texts(download_path)

# %%
# Create a dictionary and corpus for topic modeling
dictionary = Dictionary(texts)
corpus = [dictionary.doc2bow(text) for text in texts]

# %%
# Perform topic modeling using LDA
lda_model = LdaModel(corpus, num_topics=5, id2word=dictionary, passes=10)

# %%
# Print the topics
for idx, topic in lda_model.print_topics(-1):
    print(f'Topic: {idx} \nWords: {topic}')

# %%
# Visualize the topics using matplotlib
def plot_top_words(lda_model, num_words=10):
    for idx, topic in lda_model.print_topics(-1):
        plt.figure()
        plt.imshow([[0,0], [0,0]], cmap='Blues')
        plt.title(f'Topic {idx}')
        words = topic.split(' + ')
        words = [word.split('*')[1].replace('"', '').strip() for word in words[:num_words]]
        plt.barh(words, [float(word.split('*')[0]) for word in words[:num_words]])
        plt.show()

plot_top_words(lda_model)

# %%
# Save the LDA model for future use
lda_model.save('belgian_journals_lda.model')

